{
  "nbformat": 4,
  "nbformat_minor": 0,
  "metadata": {
    "colab": {
      "name": "Pilas_1310.ipynb",
      "provenance": []
    },
    "kernelspec": {
      "name": "python3",
      "display_name": "Python 3"
    },
    "language_info": {
      "name": "python"
    }
  },
  "cells": [
    {
      "cell_type": "code",
      "metadata": {
        "id": "4qiPtALsMuvJ"
      },
      "source": [
        "class StackADT:\n",
        "    def __init__( self ):\n",
        "        self.__data = list()\n",
        "\n",
        "    #regresa true si la pila está vcacia\n",
        "    def is_empty( self ):\n",
        "         return len( self.__data ) == 0\n",
        "\n",
        "    def get_length( self ):\n",
        "        return len( self.__data)\n",
        "\n",
        "    def pop( self ):\n",
        "        if self.is_empty():\n",
        "            print(\"Pila vacia, nada que sacar\")\n",
        "        else:\n",
        "            return self.__data.pop()\n",
        "\n",
        "    def peek( self ):\n",
        "        if self.is_empty():\n",
        "            print(\"Pila vacia, nada que sacar\")\n",
        "        else:\n",
        "            return self.__data[ -1 ]\n",
        "\n",
        "    def push( self, value ):\n",
        "        self.__data.append( value)\n",
        "\n",
        "    def to_string(self):\n",
        "        for item in self.__data[::-1]:\n",
        "            print(f\"| { item } |\")\n",
        "\n"
      ],
      "execution_count": null,
      "outputs": []
    },
    {
      "cell_type": "code",
      "metadata": {
        "id": "t0myfanMQd8z"
      },
      "source": [
        "pila = StackADT()\n",
        "print(\"Esta vacia? =\", pila.is_empty() )\n",
        "print(\"# elemnentos: \", pila.get_length() )\n",
        "pila.push(10)\n",
        "print(\"Esta vacia? =\", pila.is_empty() )\n",
        "print(\"# elemnentos: \", pila.get_length() )\n",
        "pila.push(20)\n",
        "pila.push(30)\n",
        "pila.push(40)\n",
        "pila.to_string()\n",
        "print( pila.pop() ) #40\n",
        "print( pila.peek() ) #30\n",
        "pila.to_string()\n"
      ],
      "execution_count": null,
      "outputs": []
    },
    {
      "cell_type": "markdown",
      "metadata": {
        "id": "nSY0NJtgyiB6"
      },
      "source": [
        "#aplicacion de pilas, balanceo de llaves en programacion"
      ]
    },
    {
      "cell_type": "code",
      "metadata": {
        "id": "366wXCirzNIU"
      },
      "source": [
        "\"\"\"\n",
        "#include <stdio.h>\n",
        "int main()\n",
        "{\n",
        "    int num, count, sum = 0;\n",
        "\n",
        "    printf(\"Enter a positive integer: \");\n",
        "    scanf(\"%d\", &num);\n",
        "\n",
        "    // for loop terminates when num is less than count\n",
        "    for(count = 1; count <= num; ++count)\n",
        "    {\n",
        "        sum += count;\n",
        "    }\n",
        "\n",
        "    printf(\"Sum = %d\", sum);\n",
        "\n",
        "    return 0;\n",
        "}\n",
        "\"\"\"\n",
        "\n",
        "!cat prog.txt"
      ],
      "execution_count": null,
      "outputs": []
    },
    {
      "cell_type": "code",
      "metadata": {
        "colab": {
          "base_uri": "https://localhost:8080/"
        },
        "id": "xNt-Y8j9z2q-",
        "outputId": "ad62099c-5435-432e-826d-dce7ab2fd234"
      },
      "source": [
        "entrada = open('prog.txt', 'rt' ) \n",
        "codigo = entrada.read()\n",
        "#print(codigo )\n",
        "pilaControl = StackADT()\n",
        "pilaControl.push(\"#\")  #Caracter de pila vacia\n",
        "\n",
        "for letra in codigo:\n",
        "    # print(f\"-->  { letra } <--\" ) \n",
        "    if letra == \"{\":  #regla 1\n",
        "        pilaControl.push( \"{\" )\n",
        "    elif letra == \"}\":   #regla 2\n",
        "        basura = pilaControl.pop()\n",
        "    else:\n",
        "        pass \n",
        "\n",
        "# NOTA: este codigo aun no comtempla desbalanceo\n",
        "\n",
        "if pilaControl.peek() == \"#\":\n",
        "    print(\"El codigo proporcionado está correctamente balanceado\" )\n",
        "else:\n",
        "    print(\"El codigo no está balanceado en llaves { y }\" )\n",
        "\n"
      ],
      "execution_count": null,
      "outputs": [
        {
          "output_type": "stream",
          "name": "stdout",
          "text": [
            "El codigo proporcionado está correctamente balanceado\n"
          ]
        }
      ]
    },
    {
      "cell_type": "markdown",
      "metadata": {
        "id": "mh-pVc1S7z-7"
      },
      "source": [
        "#Aplicacion de Pilas\n",
        "\n",
        "#Estrategía de diseños de algoritmos BACKTRACKING"
      ]
    },
    {
      "cell_type": "code",
      "metadata": {
        "id": "ciq0qgG57_8b"
      },
      "source": [
        ""
      ],
      "execution_count": null,
      "outputs": []
    }
  ]
}